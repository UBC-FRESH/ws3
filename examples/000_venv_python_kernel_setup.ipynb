{
 "cells": [
  {
   "cell_type": "markdown",
   "id": "57c473fb",
   "metadata": {},
   "source": [
    "# Setting up a venv-sandboxed Python kernel\n",
    "\n",
    "This notebooks explains how to set up a new venv-sandboxed Python kernel and make it available in your JupyterLab environment, assuming that you are running this notebook in a standard linux-based environment and a regular (non-root) using running commands in a bash terminal. \n",
    "\n",
    "> This is meant to provide helpful hints to get you over the hump, not as a comprehensive tutorial. This may not work for your environment!\n",
    "\n",
    "> You might also want to consult the [official IPython kernel installation documentation](https://ipython.readthedocs.io/en/stable/install/kernel_install.html) for a more general explanation. "
   ]
  },
  {
   "cell_type": "markdown",
   "id": "d1e7b9f7-81c1-414b-9c4f-4fcc2b0d6ecc",
   "metadata": {},
   "source": [
    "## Creating and installing a new venv-sandboxed Python kernel"
   ]
  },
  {
   "cell_type": "markdown",
   "id": "59a0fcf5-55da-43af-b6ee-e4950fe51b6b",
   "metadata": {
    "tags": []
   },
   "source": [
    "From a bash terminal, `cd` to your home directory, and create a new hidden directory in which you will put all your virtual environments.\n",
    "\n",
    "```\n",
    "user@host:~$ mkdir .virtualenvs\n",
    "```\n",
    "\n",
    "Then, create a new venv (the venv in this example is named \"foo\", because of course it is).\n",
    "\n",
    "```\n",
    "user@host:~$ python3 -m venv .virtualenvs/foo\n",
    "```\n",
    "\n",
    "Activate the new venv. Once activated, the venv name is displayed in parentheses at the front of your command prompt, as shown below.\n",
    "\n",
    "```\n",
    "user@host:~$ source .virtualenvs/foo/bin/activate\n",
    "(foo) user:host:~$\n",
    "```\n",
    "\n",
    "Use `pip` to install ipykernel inside your new venv.\n",
    "\n",
    "```\n",
    "(foo) user@host:~$ pip install ipykernel\n",
    "```\n",
    "\n",
    "Install your new ipykernel into your user kernel library, and give it a nice name that will make sense when you see the new kernel listed in the JupyterLab interface.\n",
    "\n",
    "```\n",
    "(foo) user@host:~$ python -m ipykernel install --user --name foo --display-name \"Python 3 (venv:foo)\"\n",
    "```\n",
    "\n",
    "Deactivate the venv in your terminal when you are done.\n",
    "\n",
    "```\n",
    "(foo) user@host:~$ deactivate\n",
    "```\n",
    "\n",
    "When you open a new Launcher tab in JupyterLab, you should see the new venv-sandboxed Python kernel listed next to the default system Python kernel.\n",
    "\n",
    "To display a list to confirm which jupyter kernels are currently installed in your environment, you can run the following command from a terminal.\n",
    "\n",
    "```\n",
    "user@host:~$ jupyter kernelspec list\n",
    "```\n",
    "\n",
    "To uninstall the \"foo\" kernel, run the following command.\n",
    "\n",
    "```\n",
    "user@host:~$ jupyter kernelspec uninstall foo\n",
    "```\n",
    "\n",
    "This only uninstalls the jupyter kernel. It does not remove the venv containing the kernelspec from your system. To delete a venv, just delete the directory it is contained in.\n",
    "\n",
    "```\n",
    "user@host:~$ rm -rf .virtualenvs/foo\n",
    "```\n",
    "\n",
    "## Installing Python packages\n",
    "\n",
    "There are multiple ways to install Python packages into your new venv, such that your venv-sandboxed Python kernel will pick these up when you run import commands in your code.\n",
    "\n",
    "The easiest way is to use built-in `%pip` IPython magic commands from a JupyterLab notebook (or console) that is running your venv-sandboxed kernelspec. \n",
    "\n",
    "For example, to install the `dev` branch of the `ws3` package in the new \"foo\" venv you could run this line of code from inside the kernel."
   ]
  },
  {
   "cell_type": "code",
   "execution_count": 1,
   "id": "a4c0fa22-c1f6-4ccb-8e2a-733aa4bad057",
   "metadata": {
    "tags": []
   },
   "outputs": [
    {
     "name": "stdout",
     "output_type": "stream",
     "text": [
      "Collecting git+https://github.com/gparadis/ws3@dev\n",
      "  Cloning https://github.com/gparadis/ws3 (to revision dev) to /tmp/pip-req-build-n84lx90_\n",
      "  Running command git clone --filter=blob:none --quiet https://github.com/gparadis/ws3 /tmp/pip-req-build-n84lx90_\n",
      "  Resolved https://github.com/gparadis/ws3 to commit 29ac73326aabef2e728122195543c4de335e4283\n",
      "  Installing build dependencies ... \u001b[?25ldone\n",
      "\u001b[?25h  Getting requirements to build wheel ... \u001b[?25ldone\n",
      "\u001b[?25h  Preparing metadata (pyproject.toml) ... \u001b[?25ldone\n",
      "\u001b[?25hBuilding wheels for collected packages: ws3\n",
      "  Building wheel for ws3 (pyproject.toml) ... \u001b[?25ldone\n",
      "\u001b[?25h  Created wheel for ws3: filename=ws3-0.0.1.post3-py2.py3-none-any.whl size=59108 sha256=d6c9bd82c65ea4e2beecf0094a5eb13c543373a3e19c9c7b9de97d5cd1ce5968\n",
      "  Stored in directory: /tmp/pip-ephem-wheel-cache-q7wooybs/wheels/58/7f/fd/fffd2465004750dc9a227e6504c396c7076e389e3e2a8e6412\n",
      "Successfully built ws3\n",
      "Installing collected packages: ws3\n",
      "Successfully installed ws3-0.0.1.post3\n",
      "Note: you may need to restart the kernel to use updated packages.\n"
     ]
    }
   ],
   "source": [
    "%pip install -U git+https://github.com/gparadis/ws3@dev"
   ]
  },
  {
   "cell_type": "markdown",
   "id": "6a94052a-e9a2-4e41-ac88-0762e9c542ba",
   "metadata": {
    "tags": []
   },
   "source": [
    "You can test to make sure that your kernel is now picking up the venv-sandboxed version of the package by importing the package and inspecting the value of the package `__path__` attribute."
   ]
  },
  {
   "cell_type": "code",
   "execution_count": 2,
   "id": "875d9f38-f286-46bf-9ed0-c2bb5909b105",
   "metadata": {
    "tags": []
   },
   "outputs": [
    {
     "data": {
      "text/plain": [
       "['/home/gep/projects/ws3/.venv/lib/python3.12/site-packages/ws3']"
      ]
     },
     "execution_count": 2,
     "metadata": {},
     "output_type": "execute_result"
    }
   ],
   "source": [
    "import ws3\n",
    "ws3.__path__"
   ]
  },
  {
   "cell_type": "markdown",
   "id": "b506d92e-73a5-4385-a736-22c9f11f6aec",
   "metadata": {
    "tags": []
   },
   "source": [
    "You can also use the \"%pip\" magic command to uninstall packages from your venv. \n",
    "\n",
    "For example to uninstall the ws3 package we installed earlier in the \"foo\" venv, run the following command from inside the kernel. Note the \"-y\" flag, which skips asking for user confirmation before uninstalling stuff (else the kernel will hang forever waiting for your response, which you cannot provide from inside a Jupyter notebook or console environment)."
   ]
  },
  {
   "cell_type": "code",
   "execution_count": 3,
   "id": "b3682eee-70cc-41a1-a525-bb50cdb92a75",
   "metadata": {
    "tags": []
   },
   "outputs": [
    {
     "name": "stdout",
     "output_type": "stream",
     "text": [
      "Found existing installation: ws3 0.0.1.post3\n",
      "Uninstalling ws3-0.0.1.post3:\n",
      "  Successfully uninstalled ws3-0.0.1.post3\n",
      "Note: you may need to restart the kernel to use updated packages.\n"
     ]
    }
   ],
   "source": [
    "%pip uninstall -y ws3"
   ]
  },
  {
   "cell_type": "markdown",
   "id": "5fa1bd99-49f5-42f2-bd3a-4ac65380f559",
   "metadata": {
    "tags": []
   },
   "source": [
    "Note also that it is possible to install an \"editable\" version of a Python package inside your venv-sandboxed kernel by cloning a GitHub repo for the Python package you want to use into your project environment and running the \"%pip\" magic command with the \"-e\" flag and point to the local directory containing the cloned copy of the package code.\n",
    "\n",
    "For example, we can clone the `dev` branch of the `ws3` GitHub repo into our project directory like this."
   ]
  },
  {
   "cell_type": "code",
   "execution_count": 4,
   "id": "604418fe-24b5-4729-8c74-8e9d274c9ea3",
   "metadata": {
    "tags": []
   },
   "outputs": [
    {
     "name": "stdout",
     "output_type": "stream",
     "text": [
      "fatal: destination path 'ws3' already exists and is not an empty directory.\n"
     ]
    }
   ],
   "source": [
    "!git clone https://github.com/gparadis/ws3"
   ]
  },
  {
   "cell_type": "markdown",
   "id": "795f86a9-fd01-4bce-86aa-fd2882a18fe4",
   "metadata": {
    "tags": []
   },
   "source": [
    "Then we can configure our venv-sandboxed kernel environment to use that local copy of the code when Python imports `ws3` by running the following magic command (assuming this notebook is running the venv kernel)."
   ]
  },
  {
   "cell_type": "code",
   "execution_count": 5,
   "id": "9d25fbe5-21d5-4fff-b412-27fbae9c07a4",
   "metadata": {
    "tags": []
   },
   "outputs": [
    {
     "name": "stdout",
     "output_type": "stream",
     "text": [
      "Obtaining file:///home/gep/projects/ws3/examples/ws3\n",
      "  Installing build dependencies ... \u001b[?25ldone\n",
      "\u001b[?25h  Checking if build backend supports build_editable ... \u001b[?25ldone\n",
      "\u001b[?25h  Getting requirements to build editable ... \u001b[?25ldone\n",
      "\u001b[?25h  Preparing editable metadata (pyproject.toml) ... \u001b[?25ldone\n",
      "\u001b[?25hBuilding wheels for collected packages: ws3\n",
      "  Building editable for ws3 (pyproject.toml) ... \u001b[?25ldone\n",
      "\u001b[?25h  Created wheel for ws3: filename=ws3-0.0.1.post3-py2.py3-none-any.whl size=1867 sha256=1b36d8dae1612fcb9b53974861f8ee1ce1bd3696fc61fe1dcb8c275b10b42178\n",
      "  Stored in directory: /tmp/pip-ephem-wheel-cache-6d8dj3f8/wheels/92/4f/40/0e1d2f2584d079a190b79c34d238033826099ccae6b5868838\n",
      "Successfully built ws3\n",
      "Installing collected packages: ws3\n",
      "Successfully installed ws3-0.0.1.post3\n",
      "Note: you may need to restart the kernel to use updated packages.\n"
     ]
    }
   ],
   "source": [
    "%pip install -e ./ws3"
   ]
  },
  {
   "cell_type": "markdown",
   "id": "5be95ad5-4866-478a-ac7e-f76a1bacd1db",
   "metadata": {
    "tags": []
   },
   "source": [
    "We can check that this is working the way I intended by importing the ws3 package and inspecting its __path__ attribute."
   ]
  },
  {
   "cell_type": "code",
   "execution_count": 6,
   "id": "0472b10d-12ae-40a3-acd9-f56b11467b34",
   "metadata": {
    "tags": []
   },
   "outputs": [
    {
     "data": {
      "text/plain": [
       "['/home/gep/projects/ws3/.venv/lib/python3.12/site-packages/ws3']"
      ]
     },
     "execution_count": 6,
     "metadata": {},
     "output_type": "execute_result"
    }
   ],
   "source": [
    "import ws3\n",
    "ws3.__path__"
   ]
  },
  {
   "cell_type": "markdown",
   "id": "71539ec7-9d8a-4bc2-b6cc-8e8847b70319",
   "metadata": {
    "tags": []
   },
   "source": [
    "If you want to get really fancy, you can set up your notebook to autoreload the local package anytime you modify the source code by adding these two lines of code to the top of your notebook."
   ]
  },
  {
   "cell_type": "code",
   "execution_count": 7,
   "id": "10e5be3e-674e-4c94-99b9-b00d3b8eb9e9",
   "metadata": {
    "tags": []
   },
   "outputs": [],
   "source": [
    "%load_ext autoreload\n",
    "%autoreload 2"
   ]
  },
  {
   "cell_type": "markdown",
   "id": "c447c927-fdee-4b86-b237-de8ee9e8c7dd",
   "metadata": {
    "tags": []
   },
   "source": [
    "This is the basic pattern if you are working on a project that uses `ws3` and anticipate needing to tweak the code (at least a little bit) to get it to do _exactly_ what you need it to do for your particular project."
   ]
  }
 ],
 "metadata": {
  "kernelspec": {
   "display_name": ".venv",
   "language": "python",
   "name": "python3"
  },
  "language_info": {
   "codemirror_mode": {
    "name": "ipython",
    "version": 3
   },
   "file_extension": ".py",
   "mimetype": "text/x-python",
   "name": "python",
   "nbconvert_exporter": "python",
   "pygments_lexer": "ipython3",
   "version": "3.12.3"
  }
 },
 "nbformat": 4,
 "nbformat_minor": 5
}
